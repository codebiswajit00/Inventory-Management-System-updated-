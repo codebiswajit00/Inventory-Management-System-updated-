{
 "cells": [
  {
   "cell_type": "markdown",
   "id": "fd9c9e82",
   "metadata": {},
   "source": [
    "# Inventory Management system\n",
    "\n",
    "## Read and Purchase from Inventory "
   ]
  },
  {
   "cell_type": "code",
   "execution_count": 20,
   "id": "ab2e55d2",
   "metadata": {
    "scrolled": false
   },
   "outputs": [
    {
     "name": "stdout",
     "output_type": "stream",
     "text": [
      "Enter the product_Id: 1000\n",
      "Enter the quantity: 5\n",
      "****************************************\n",
      "Date of Purchase: Sun Sep  5 15:28:25 2021\n",
      "Product:  kitkat\n",
      "Product expiry Date: 25/08/2022\n",
      "Price:  5\n",
      "Billing Amount:  25\n",
      "****************************************\n",
      "Thank You, Visit Again!\n",
      "****************************************\n"
     ]
    }
   ],
   "source": [
    "import json\n",
    "import time\n",
    "fd = open(\"records.json\",\"r\")\n",
    "read = fd.read()\n",
    "fd.close()\n",
    "record = json.loads(read)\n",
    "ui_prod  = str(input(\"Enter the product_Id: \"))\n",
    "ui_quant = int(input(\"Enter the quantity: \"))\n",
    "\n",
    "\n",
    "print(\"****************************************\")\n",
    "print(\"Date of Purchase:\",time.ctime())\n",
    "print(\"Product: \", record[ui_prod]['p_name'])\n",
    "print(\"Product expiry Date:\",record[ui_prod]['expiry date'])\n",
    "print(\"Price: \", record[ui_prod]['pr'])\n",
    "print(\"Billing Amount: \", record[ui_prod]['pr'] * ui_quant)\n",
    "print(\"****************************************\")\n",
    "print(\"Thank You, Visit Again!\")\n",
    "print(\"****************************************\")\n",
    "\n",
    "record[ui_prod]['qt'] = record[ui_prod]['qt'] - ui_quant\n",
    "\n",
    "js = json.dumps(record)\n",
    "fd = open(\"record.json\",\"w\")\n",
    "fd.write(js)\n",
    "fd.close()\n",
    "sales = {ui_prod:{\"Product_ID\":ui_prod,\"quantity\":ui_quant,\"Product_name\":record[ui_prod][\"p_name\"],\"amount\":record[ui_prod][\"pr\"]*ui_quant}}\n",
    "sale = json.dumps(sales)\n",
    "fs = open(\"sales.json\",\"r+\")\n",
    "fs.write(sale)\n",
    "fs.close()"
   ]
  },
  {
   "cell_type": "markdown",
   "id": "0f6be37e",
   "metadata": {},
   "source": [
    "## Sales"
   ]
  },
  {
   "cell_type": "code",
   "execution_count": 22,
   "id": "f675ed18",
   "metadata": {
    "scrolled": false
   },
   "outputs": [],
   "source": [
    "sales = {ui_prod:{\"Product_ID\":ui_prod,\"quantity\":ui_quant,\"Product_name\":record[ui_prod][\"p_name\"],\"amount\":record[ui_prod][\"pr\"]*ui_quant,\"Date\":time.ctime()}}\n",
    "sale = json.dumps(sales)\n",
    "fs = open(\"sales.json\",\"w\")\n",
    "fs.write(sale)\n",
    "fs.close()"
   ]
  },
  {
   "cell_type": "markdown",
   "id": "020e3b73",
   "metadata": {},
   "source": [
    "## Adding new item to Inventory"
   ]
  },
  {
   "cell_type": "code",
   "execution_count": 9,
   "id": "2e1131ee",
   "metadata": {},
   "outputs": [
    {
     "name": "stdout",
     "output_type": "stream",
     "text": [
      "Enter the Product ID:1031\n",
      "Enter the Product Name:Milk\n",
      "Enter the product Type:Essentials\n",
      "Enter the Quantiy of item you want add in the Inventory:500\n",
      "Enter the Price:30\n",
      "Enter the Product Expiry date:22/09/2021\n"
     ]
    }
   ],
   "source": [
    "#ADD NEW ITEM TO INVENTORY\n",
    "ui_prod = str(input(\"Enter the Product ID:\"))\n",
    "ui_name = str(input(\"Enter the Product Name:\"))\n",
    "p_type = str(input(\"Enter the product Type:\"))\n",
    "qn = int(input(\"Enter the Quantiy of item you want add in the Inventory:\"))\n",
    "pr = int(input(\"Enter the Price:\"))\n",
    "exp = str(input(\"Enter the Product Expiry date:\"))\n",
    "\n",
    "record[ui_prod] = {\"p_name\": ui_name,\"pr\":pr, \"qt\":qn,\"p_type\":p_type,\"expiry date\":exp}\n",
    "js = json.dumps(record)\n",
    "fd = open(\"record.json\",\"w\")\n",
    "fd.write(js)\n",
    "fd.close()"
   ]
  },
  {
   "cell_type": "code",
   "execution_count": null,
   "id": "f401c45b",
   "metadata": {},
   "outputs": [],
   "source": []
  }
 ],
 "metadata": {
  "kernelspec": {
   "display_name": "Python 3",
   "language": "python",
   "name": "python3"
  },
  "language_info": {
   "codemirror_mode": {
    "name": "ipython",
    "version": 3
   },
   "file_extension": ".py",
   "mimetype": "text/x-python",
   "name": "python",
   "nbconvert_exporter": "python",
   "pygments_lexer": "ipython3",
   "version": "3.8.8"
  }
 },
 "nbformat": 4,
 "nbformat_minor": 5
}
